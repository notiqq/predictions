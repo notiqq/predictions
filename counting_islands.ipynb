{
 "cells": [
  {
   "cell_type": "code",
   "execution_count": 2,
   "metadata": {},
   "outputs": [],
   "source": [
    "import collections"
   ]
  },
  {
   "cell_type": "code",
   "execution_count": 27,
   "metadata": {},
   "outputs": [],
   "source": [
    "class IslandCounter():\n",
    "\n",
    "    def breadth_first_search(self, row, column, matrix):\n",
    "        queue = collections.deque()\n",
    "        directions = [[1,0],[-1,0],[0,1],[0,-1]]\n",
    "\n",
    "        self.visited_cells.add((row,column))\n",
    "        queue.append((row, column))\n",
    "        while queue:\n",
    "            \n",
    "            selected_row, selected_column = queue.popleft()\n",
    "            \n",
    "            for directed_row, directed_column in directions:\n",
    "                processed_row =  selected_row + directed_row\n",
    "                processed_column = selected_column + directed_column\n",
    "\n",
    "                if (processed_row in range(self.rows_count) and\n",
    "                    processed_column in range(self.columns_count) and\n",
    "                    matrix[processed_row][processed_column] == 1 and\n",
    "                    (processed_row, processed_column) not in self.visited_cells):\n",
    "                    queue.append((processed_row,processed_column))\n",
    "                    self.visited_cells.add((processed_row, processed_column))\n",
    "\n",
    "    def calculate(self, matrix):\n",
    "        if matrix == None:\n",
    "            return 0\n",
    "        \n",
    "        self.visited_cells = set()\n",
    "        self.rows_count = len(matrix)\n",
    "        self.columns_count = len(matrix[0])\n",
    "        island_count = 0\n",
    "\n",
    "        for row_index in range(self.rows_count):\n",
    "            for column_index in range(self.columns_count):\n",
    "                if matrix[row_index][column_index] == 1 and (row_index, column_index) not in self.visited_cells:\n",
    "                    self.breadth_first_search(row_index, column_index, matrix)\n",
    "                    island_count += 1\n",
    "        \n",
    "        return island_count"
   ]
  },
  {
   "cell_type": "code",
   "execution_count": 28,
   "metadata": {},
   "outputs": [],
   "source": [
    "island_counter = IslandCounter()"
   ]
  },
  {
   "cell_type": "code",
   "execution_count": 29,
   "metadata": {},
   "outputs": [
    {
     "data": {
      "text/plain": [
       "2"
      ]
     },
     "execution_count": 29,
     "metadata": {},
     "output_type": "execute_result"
    }
   ],
   "source": [
    "island_counter.calculate([[0,1,0],[0,0,0],[0,1,1]])"
   ]
  },
  {
   "cell_type": "code",
   "execution_count": 30,
   "metadata": {},
   "outputs": [
    {
     "data": {
      "text/plain": [
       "3"
      ]
     },
     "execution_count": 30,
     "metadata": {},
     "output_type": "execute_result"
    }
   ],
   "source": [
    "island_counter.calculate([[0,0,0,1],[0,0,1,0],[0,1,0,0]])"
   ]
  },
  {
   "cell_type": "code",
   "execution_count": 31,
   "metadata": {},
   "outputs": [
    {
     "data": {
      "text/plain": [
       "2"
      ]
     },
     "execution_count": 31,
     "metadata": {},
     "output_type": "execute_result"
    }
   ],
   "source": [
    "island_counter.calculate([[0,0,0,1],[0,0,1,1],[0,1,0,1]])"
   ]
  },
  {
   "cell_type": "code",
   "execution_count": null,
   "metadata": {},
   "outputs": [],
   "source": []
  },
  {
   "cell_type": "code",
   "execution_count": null,
   "metadata": {},
   "outputs": [],
   "source": []
  }
 ],
 "metadata": {
  "kernelspec": {
   "display_name": "assignment",
   "language": "python",
   "name": "python3"
  },
  "language_info": {
   "codemirror_mode": {
    "name": "ipython",
    "version": 3
   },
   "file_extension": ".py",
   "mimetype": "text/x-python",
   "name": "python",
   "nbconvert_exporter": "python",
   "pygments_lexer": "ipython3",
   "version": "3.10.13"
  }
 },
 "nbformat": 4,
 "nbformat_minor": 2
}
